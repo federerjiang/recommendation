{
 "cells": [
  {
   "cell_type": "code",
   "execution_count": 1,
   "metadata": {},
   "outputs": [],
   "source": [
    "import pandas as pd \n",
    "import random"
   ]
  },
  {
   "cell_type": "code",
   "execution_count": 2,
   "metadata": {},
   "outputs": [],
   "source": [
    "df = pd.read_csv('../porise/data/reward_nov02_nov30_exp5217.csv')"
   ]
  },
  {
   "cell_type": "code",
   "execution_count": 3,
   "metadata": {},
   "outputs": [
    {
     "data": {
      "text/html": [
       "<div>\n",
       "<style scoped>\n",
       "    .dataframe tbody tr th:only-of-type {\n",
       "        vertical-align: middle;\n",
       "    }\n",
       "\n",
       "    .dataframe tbody tr th {\n",
       "        vertical-align: top;\n",
       "    }\n",
       "\n",
       "    .dataframe thead th {\n",
       "        text-align: right;\n",
       "    }\n",
       "</style>\n",
       "<table border=\"1\" class=\"dataframe\">\n",
       "  <thead>\n",
       "    <tr style=\"text-align: right;\">\n",
       "      <th></th>\n",
       "      <th>easy_id</th>\n",
       "      <th>landing_time</th>\n",
       "      <th>ct_time</th>\n",
       "      <th>service</th>\n",
       "      <th>reward</th>\n",
       "    </tr>\n",
       "  </thead>\n",
       "  <tbody>\n",
       "    <tr>\n",
       "      <th>0</th>\n",
       "      <td>353942957</td>\n",
       "      <td>1604322360</td>\n",
       "      <td>NaN</td>\n",
       "      <td>pointclub</td>\n",
       "      <td>0.0</td>\n",
       "    </tr>\n",
       "    <tr>\n",
       "      <th>1</th>\n",
       "      <td>410217038</td>\n",
       "      <td>1604322417</td>\n",
       "      <td>NaN</td>\n",
       "      <td>rakuma</td>\n",
       "      <td>0.0</td>\n",
       "    </tr>\n",
       "    <tr>\n",
       "      <th>2</th>\n",
       "      <td>342269995</td>\n",
       "      <td>1604322417</td>\n",
       "      <td>NaN</td>\n",
       "      <td>pointclub</td>\n",
       "      <td>0.0</td>\n",
       "    </tr>\n",
       "    <tr>\n",
       "      <th>3</th>\n",
       "      <td>435689310</td>\n",
       "      <td>1604322439</td>\n",
       "      <td>NaN</td>\n",
       "      <td>rakuma</td>\n",
       "      <td>0.0</td>\n",
       "    </tr>\n",
       "    <tr>\n",
       "      <th>4</th>\n",
       "      <td>101334331</td>\n",
       "      <td>1604322443</td>\n",
       "      <td>NaN</td>\n",
       "      <td>pointclub</td>\n",
       "      <td>0.0</td>\n",
       "    </tr>\n",
       "  </tbody>\n",
       "</table>\n",
       "</div>"
      ],
      "text/plain": [
       "     easy_id  landing_time  ct_time    service  reward\n",
       "0  353942957    1604322360      NaN  pointclub     0.0\n",
       "1  410217038    1604322417      NaN     rakuma     0.0\n",
       "2  342269995    1604322417      NaN  pointclub     0.0\n",
       "3  435689310    1604322439      NaN     rakuma     0.0\n",
       "4  101334331    1604322443      NaN  pointclub     0.0"
      ]
     },
     "execution_count": 3,
     "metadata": {},
     "output_type": "execute_result"
    }
   ],
   "source": [
    "df.head()"
   ]
  },
  {
   "cell_type": "code",
   "execution_count": 4,
   "metadata": {},
   "outputs": [
    {
     "data": {
      "text/plain": [
       "service\n",
       "denki         23770\n",
       "kaitori       17738\n",
       "pay            5770\n",
       "pointclub    229393\n",
       "rakuma        18869\n",
       "research       8597\n",
       "sps           19771\n",
       "toolbar       60681\n",
       "Name: easy_id, dtype: int64"
      ]
     },
     "execution_count": 4,
     "metadata": {},
     "output_type": "execute_result"
    }
   ],
   "source": [
    "df.groupby(['service'])['easy_id'].count()"
   ]
  },
  {
   "cell_type": "code",
   "execution_count": 5,
   "metadata": {},
   "outputs": [],
   "source": [
    "services = df.service.unique().tolist()"
   ]
  },
  {
   "cell_type": "code",
   "execution_count": 10,
   "metadata": {},
   "outputs": [],
   "source": [
    "service_dict = dict()"
   ]
  },
  {
   "cell_type": "code",
   "execution_count": 11,
   "metadata": {},
   "outputs": [],
   "source": [
    "for service in services:\n",
    "    service_dict[service] = []"
   ]
  },
  {
   "cell_type": "code",
   "execution_count": 12,
   "metadata": {},
   "outputs": [
    {
     "data": {
      "text/html": [
       "<div>\n",
       "<style scoped>\n",
       "    .dataframe tbody tr th:only-of-type {\n",
       "        vertical-align: middle;\n",
       "    }\n",
       "\n",
       "    .dataframe tbody tr th {\n",
       "        vertical-align: top;\n",
       "    }\n",
       "\n",
       "    .dataframe thead th {\n",
       "        text-align: right;\n",
       "    }\n",
       "</style>\n",
       "<table border=\"1\" class=\"dataframe\">\n",
       "  <thead>\n",
       "    <tr style=\"text-align: right;\">\n",
       "      <th></th>\n",
       "      <th>easy_id</th>\n",
       "      <th>landing_time</th>\n",
       "      <th>ct_time</th>\n",
       "      <th>service</th>\n",
       "      <th>reward</th>\n",
       "    </tr>\n",
       "  </thead>\n",
       "  <tbody>\n",
       "    <tr>\n",
       "      <th>1</th>\n",
       "      <td>410217038</td>\n",
       "      <td>1604322417</td>\n",
       "      <td>NaN</td>\n",
       "      <td>rakuma</td>\n",
       "      <td>0.0</td>\n",
       "    </tr>\n",
       "  </tbody>\n",
       "</table>\n",
       "</div>"
      ],
      "text/plain": [
       "     easy_id landing_time ct_time service reward\n",
       "1  410217038   1604322417     NaN  rakuma    0.0"
      ]
     },
     "execution_count": 12,
     "metadata": {},
     "output_type": "execute_result"
    }
   ],
   "source": [
    "df.iloc[1].to_frame().T"
   ]
  },
  {
   "cell_type": "code",
   "execution_count": 13,
   "metadata": {},
   "outputs": [],
   "source": [
    "for idx in range(len(df.index)):\n",
    "    entry = df.iloc[idx]\n",
    "    service_dict[entry.service].append(entry)"
   ]
  },
  {
   "cell_type": "code",
   "execution_count": 14,
   "metadata": {},
   "outputs": [
    {
     "name": "stdout",
     "output_type": "stream",
     "text": [
      "229393\n",
      "18869\n",
      "60681\n",
      "23770\n",
      "19771\n",
      "8597\n",
      "17738\n",
      "5770\n"
     ]
    }
   ],
   "source": [
    "services_count = {}\n",
    "for service in services:\n",
    "    services_count[service] = len(service_dict[service])\n",
    "    print(services_count[service])"
   ]
  },
  {
   "cell_type": "code",
   "execution_count": 23,
   "metadata": {},
   "outputs": [
    {
     "name": "stdout",
     "output_type": "stream",
     "text": [
      "8 ['pointclub', 'rakuma', 'toolbar', 'denki', 'sps', 'research', 'kaitori', 'pay']\n"
     ]
    }
   ],
   "source": [
    "n_services = len(services)\n",
    "print(n_services, services)"
   ]
  },
  {
   "cell_type": "code",
   "execution_count": 31,
   "metadata": {},
   "outputs": [],
   "source": [
    "samples = []\n",
    "for _ in range(int(4e5)):\n",
    "    sampled_service = services[random.randint(0, n_services-1)]\n",
    "    samples.append(random.choice(service_dict[sampled_service]).to_frame().T)"
   ]
  },
  {
   "cell_type": "code",
   "execution_count": 32,
   "metadata": {},
   "outputs": [],
   "source": [
    "# print(samples[2])"
   ]
  },
  {
   "cell_type": "code",
   "execution_count": 33,
   "metadata": {},
   "outputs": [],
   "source": [
    "sampled_df = pd.concat(samples)"
   ]
  },
  {
   "cell_type": "code",
   "execution_count": 34,
   "metadata": {},
   "outputs": [
    {
     "data": {
      "text/html": [
       "<div>\n",
       "<style scoped>\n",
       "    .dataframe tbody tr th:only-of-type {\n",
       "        vertical-align: middle;\n",
       "    }\n",
       "\n",
       "    .dataframe tbody tr th {\n",
       "        vertical-align: top;\n",
       "    }\n",
       "\n",
       "    .dataframe thead th {\n",
       "        text-align: right;\n",
       "    }\n",
       "</style>\n",
       "<table border=\"1\" class=\"dataframe\">\n",
       "  <thead>\n",
       "    <tr style=\"text-align: right;\">\n",
       "      <th></th>\n",
       "      <th>easy_id</th>\n",
       "      <th>landing_time</th>\n",
       "      <th>ct_time</th>\n",
       "      <th>service</th>\n",
       "      <th>reward</th>\n",
       "    </tr>\n",
       "  </thead>\n",
       "  <tbody>\n",
       "    <tr>\n",
       "      <th>259755</th>\n",
       "      <td>160611251</td>\n",
       "      <td>1604521486</td>\n",
       "      <td>NaN</td>\n",
       "      <td>denki</td>\n",
       "      <td>0.0</td>\n",
       "    </tr>\n",
       "    <tr>\n",
       "      <th>214052</th>\n",
       "      <td>319453517</td>\n",
       "      <td>1604478009</td>\n",
       "      <td>NaN</td>\n",
       "      <td>toolbar</td>\n",
       "      <td>0.0</td>\n",
       "    </tr>\n",
       "    <tr>\n",
       "      <th>37153</th>\n",
       "      <td>417414447</td>\n",
       "      <td>1604344311</td>\n",
       "      <td>NaN</td>\n",
       "      <td>pointclub</td>\n",
       "      <td>0.0</td>\n",
       "    </tr>\n",
       "    <tr>\n",
       "      <th>326396</th>\n",
       "      <td>5564414</td>\n",
       "      <td>1604557692</td>\n",
       "      <td>NaN</td>\n",
       "      <td>rakuma</td>\n",
       "      <td>0.0</td>\n",
       "    </tr>\n",
       "    <tr>\n",
       "      <th>255047</th>\n",
       "      <td>411879417</td>\n",
       "      <td>1604520585</td>\n",
       "      <td>NaN</td>\n",
       "      <td>research</td>\n",
       "      <td>0.0</td>\n",
       "    </tr>\n",
       "    <tr>\n",
       "      <th>8948</th>\n",
       "      <td>398353748</td>\n",
       "      <td>1604326561</td>\n",
       "      <td>NaN</td>\n",
       "      <td>pointclub</td>\n",
       "      <td>0.0</td>\n",
       "    </tr>\n",
       "    <tr>\n",
       "      <th>327153</th>\n",
       "      <td>389095580</td>\n",
       "      <td>1604558258</td>\n",
       "      <td>NaN</td>\n",
       "      <td>pointclub</td>\n",
       "      <td>0.0</td>\n",
       "    </tr>\n",
       "    <tr>\n",
       "      <th>301921</th>\n",
       "      <td>213972811</td>\n",
       "      <td>1604534743</td>\n",
       "      <td>NaN</td>\n",
       "      <td>kaitori</td>\n",
       "      <td>0.0</td>\n",
       "    </tr>\n",
       "    <tr>\n",
       "      <th>342704</th>\n",
       "      <td>7049310</td>\n",
       "      <td>1604566213</td>\n",
       "      <td>NaN</td>\n",
       "      <td>denki</td>\n",
       "      <td>0.0</td>\n",
       "    </tr>\n",
       "    <tr>\n",
       "      <th>371260</th>\n",
       "      <td>411521031</td>\n",
       "      <td>1604579911</td>\n",
       "      <td>NaN</td>\n",
       "      <td>toolbar</td>\n",
       "      <td>0.0</td>\n",
       "    </tr>\n",
       "  </tbody>\n",
       "</table>\n",
       "</div>"
      ],
      "text/plain": [
       "          easy_id landing_time ct_time    service reward\n",
       "259755  160611251   1604521486     NaN      denki    0.0\n",
       "214052  319453517   1604478009     NaN    toolbar    0.0\n",
       "37153   417414447   1604344311     NaN  pointclub    0.0\n",
       "326396    5564414   1604557692     NaN     rakuma    0.0\n",
       "255047  411879417   1604520585     NaN   research    0.0\n",
       "8948    398353748   1604326561     NaN  pointclub    0.0\n",
       "327153  389095580   1604558258     NaN  pointclub    0.0\n",
       "301921  213972811   1604534743     NaN    kaitori    0.0\n",
       "342704    7049310   1604566213     NaN      denki    0.0\n",
       "371260  411521031   1604579911     NaN    toolbar    0.0"
      ]
     },
     "execution_count": 34,
     "metadata": {},
     "output_type": "execute_result"
    }
   ],
   "source": [
    "sampled_df.head(10)"
   ]
  },
  {
   "cell_type": "code",
   "execution_count": 35,
   "metadata": {},
   "outputs": [
    {
     "data": {
      "text/plain": [
       "service    reward  \n",
       "denki      0.0000      49864\n",
       "           65.3030        98\n",
       "kaitori    0.0000      49583\n",
       "           1.9000        640\n",
       "pay        0.0000      49641\n",
       "           64.3800       186\n",
       "pointclub  0.0000      48711\n",
       "           109.2708     1289\n",
       "rakuma     0.0000      49919\n",
       "           203.3600      230\n",
       "research   0.0000      49864\n",
       "sps        0.0000      49706\n",
       "           235.0800      305\n",
       "toolbar    0.0000      49540\n",
       "           280.2090      424\n",
       "Name: easy_id, dtype: int64"
      ]
     },
     "execution_count": 35,
     "metadata": {},
     "output_type": "execute_result"
    }
   ],
   "source": [
    "sampled_df.groupby(['service', 'reward'])['easy_id'].count()"
   ]
  },
  {
   "cell_type": "code",
   "execution_count": 36,
   "metadata": {},
   "outputs": [],
   "source": [
    "sampled_df.to_csv('../porise/data/sampled_rat_log_exp5217.csv', index=False)"
   ]
  },
  {
   "cell_type": "code",
   "execution_count": null,
   "metadata": {},
   "outputs": [],
   "source": []
  }
 ],
 "metadata": {
  "kernelspec": {
   "display_name": "Python 3",
   "language": "python",
   "name": "python3"
  },
  "language_info": {
   "codemirror_mode": {
    "name": "ipython",
    "version": 3
   },
   "file_extension": ".py",
   "mimetype": "text/x-python",
   "name": "python",
   "nbconvert_exporter": "python",
   "pygments_lexer": "ipython3",
   "version": "3.8.2"
  }
 },
 "nbformat": 4,
 "nbformat_minor": 4
}
