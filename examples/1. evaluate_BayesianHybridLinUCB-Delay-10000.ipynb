{
 "cells": [
  {
   "cell_type": "code",
   "execution_count": 1,
   "metadata": {},
   "outputs": [],
   "source": [
    "import pandas as pd \n",
    "\n",
    "from porise.model.algorithms.cmab import BayesianHybridLinUCB\n",
    "from porise.envs.real import ChainOfferEnvV2\n",
    "from porise import Simulator"
   ]
  },
  {
   "cell_type": "code",
   "execution_count": 2,
   "metadata": {},
   "outputs": [
    {
     "name": "stdout",
     "output_type": "stream",
     "text": [
      "cdna user features loaded\n",
      "get user map ready\n"
     ]
    }
   ],
   "source": [
    "df = pd.read_csv('../porise/data/exp5217_all_imp100_scaled_train_new.csv')\n",
    "print(\"cdna user features loaded\")\n",
    "df = df.set_index('easy_id')\n",
    "user_map = df.T.to_dict('list')\n",
    "print('get user map ready')"
   ]
  },
  {
   "cell_type": "code",
   "execution_count": 3,
   "metadata": {},
   "outputs": [],
   "source": [
    "# env = ChainOfferEnvV2(rat_log_path='../porise/data/reward_nov02_nov30_exp5217.csv', user_vectors_map=user_map)\n",
    "env = ChainOfferEnvV2(rat_log_path='../porise/data/sampled_rat_log_exp5217.csv', user_vectors_map=user_map)"
   ]
  },
  {
   "cell_type": "code",
   "execution_count": 4,
   "metadata": {},
   "outputs": [
    {
     "name": "stdout",
     "output_type": "stream",
     "text": [
      "8 143\n"
     ]
    }
   ],
   "source": [
    "print(env.arm_feat_dim, env.user_feat_dim)"
   ]
  },
  {
   "cell_type": "code",
   "execution_count": 5,
   "metadata": {},
   "outputs": [],
   "source": [
    "model = BayesianHybridLinUCB(n_arms=env.n_arms,\n",
    "              alpha=2,\n",
    "              arm_feat_dim=env.arm_feat_dim,\n",
    "              user_feat_dim=env.user_feat_dim,\n",
    "              return_list=False)"
   ]
  },
  {
   "cell_type": "code",
   "execution_count": 6,
   "metadata": {},
   "outputs": [
    {
     "data": {
      "image/png": "[encoded data removed]",
      "text/plain": [
       "<Figure size 432x288 with 1 Axes>"
      ]
     },
     "metadata": {
      "needs_background": "light"
     },
     "output_type": "display_data"
    },
    {
     "name": "stderr",
     "output_type": "stream",
     "text": [
      "400000it [13:16, 502.13it/s, total reward=1390.0]                            \n"
     ]
    }
   ],
   "source": [
    "simulator = Simulator(model=model,\n",
    "                     env=env,\n",
    "                     train_every=int(10000),\n",
    "                     throttle=int(1e2),\n",
    "                     memory_capacity=int(10000),\n",
    "                     plot_every=int(1e4))\n",
    "simulator.run()"
   ]
  },
  {
   "cell_type": "code",
   "execution_count": 7,
   "metadata": {},
   "outputs": [],
   "source": [
    "import numpy as np\n",
    "np.save('results/sampled_log_BayesianHybridLinUCB_delay_10000.npy', simulator.rewards)"
   ]
  },
  {
   "cell_type": "code",
   "execution_count": 8,
   "metadata": {},
   "outputs": [
    {
     "data": {
      "text/plain": [
       "1391.0"
      ]
     },
     "execution_count": 8,
     "metadata": {},
     "output_type": "execute_result"
    }
   ],
   "source": [
    "simulator.rewards.sum()"
   ]
  },
  {
   "cell_type": "code",
   "execution_count": null,
   "metadata": {},
   "outputs": [],
   "source": []
  }
 ],
 "metadata": {
  "kernelspec": {
   "display_name": "Python 3",
   "language": "python",
   "name": "python3"
  },
  "language_info": {
   "codemirror_mode": {
    "name": "ipython",
    "version": 3
   },
   "file_extension": ".py",
   "mimetype": "text/x-python",
   "name": "python",
   "nbconvert_exporter": "python",
   "pygments_lexer": "ipython3",
   "version": "3.8.2"
  }
 },
 "nbformat": 4,
 "nbformat_minor": 4
}
